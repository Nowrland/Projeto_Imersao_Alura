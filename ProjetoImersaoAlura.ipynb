{
  "nbformat": 4,
  "nbformat_minor": 0,
  "metadata": {
    "colab": {
      "provenance": [],
      "authorship_tag": "ABX9TyOi2VuW+WxmONaPS70/72Se",
      "include_colab_link": true
    },
    "kernelspec": {
      "name": "python3",
      "display_name": "Python 3"
    },
    "language_info": {
      "name": "python"
    }
  },
  "cells": [
    {
      "cell_type": "markdown",
      "metadata": {
        "id": "view-in-github",
        "colab_type": "text"
      },
      "source": [
        "<a href=\"https://colab.research.google.com/github/Nowrland/Projeto_Imersao_Alura/blob/main/ProjetoImersaoAlura.ipynb\" target=\"_parent\"><img src=\"https://colab.research.google.com/assets/colab-badge.svg\" alt=\"Open In Colab\"/></a>"
      ]
    },
    {
      "cell_type": "markdown",
      "source": [
        "Inicio com a instalação do **Google Generative AI** e **PyPDF2** que é uma biblioteca para manipulação de PDF."
      ],
      "metadata": {
        "id": "RlBjdyunbFfy"
      }
    },
    {
      "cell_type": "code",
      "source": [
        "!pip install google-generativeai\n",
        "!pip install pypdf2\n",
        "!pip install docx2txt"
      ],
      "metadata": {
        "colab": {
          "base_uri": "https://localhost:8080/"
        },
        "id": "widqJuHtbrns",
        "outputId": "7cf3a36c-d910-4394-bd42-8bdce58667d3"
      },
      "execution_count": 11,
      "outputs": [
        {
          "output_type": "stream",
          "name": "stdout",
          "text": [
            "Requirement already satisfied: google-generativeai in /usr/local/lib/python3.10/dist-packages (0.5.2)\n",
            "Requirement already satisfied: google-ai-generativelanguage==0.6.2 in /usr/local/lib/python3.10/dist-packages (from google-generativeai) (0.6.2)\n",
            "Requirement already satisfied: google-api-core in /usr/local/lib/python3.10/dist-packages (from google-generativeai) (2.11.1)\n",
            "Requirement already satisfied: google-api-python-client in /usr/local/lib/python3.10/dist-packages (from google-generativeai) (2.84.0)\n",
            "Requirement already satisfied: google-auth>=2.15.0 in /usr/local/lib/python3.10/dist-packages (from google-generativeai) (2.27.0)\n",
            "Requirement already satisfied: protobuf in /usr/local/lib/python3.10/dist-packages (from google-generativeai) (3.20.3)\n",
            "Requirement already satisfied: pydantic in /usr/local/lib/python3.10/dist-packages (from google-generativeai) (2.7.1)\n",
            "Requirement already satisfied: tqdm in /usr/local/lib/python3.10/dist-packages (from google-generativeai) (4.66.4)\n",
            "Requirement already satisfied: typing-extensions in /usr/local/lib/python3.10/dist-packages (from google-generativeai) (4.11.0)\n",
            "Requirement already satisfied: proto-plus<2.0.0dev,>=1.22.3 in /usr/local/lib/python3.10/dist-packages (from google-ai-generativelanguage==0.6.2->google-generativeai) (1.23.0)\n",
            "Requirement already satisfied: cachetools<6.0,>=2.0.0 in /usr/local/lib/python3.10/dist-packages (from google-auth>=2.15.0->google-generativeai) (5.3.3)\n",
            "Requirement already satisfied: pyasn1-modules>=0.2.1 in /usr/local/lib/python3.10/dist-packages (from google-auth>=2.15.0->google-generativeai) (0.4.0)\n",
            "Requirement already satisfied: rsa<5,>=3.1.4 in /usr/local/lib/python3.10/dist-packages (from google-auth>=2.15.0->google-generativeai) (4.9)\n",
            "Requirement already satisfied: googleapis-common-protos<2.0.dev0,>=1.56.2 in /usr/local/lib/python3.10/dist-packages (from google-api-core->google-generativeai) (1.63.0)\n",
            "Requirement already satisfied: requests<3.0.0.dev0,>=2.18.0 in /usr/local/lib/python3.10/dist-packages (from google-api-core->google-generativeai) (2.31.0)\n",
            "Requirement already satisfied: httplib2<1dev,>=0.15.0 in /usr/local/lib/python3.10/dist-packages (from google-api-python-client->google-generativeai) (0.22.0)\n",
            "Requirement already satisfied: google-auth-httplib2>=0.1.0 in /usr/local/lib/python3.10/dist-packages (from google-api-python-client->google-generativeai) (0.1.1)\n",
            "Requirement already satisfied: uritemplate<5,>=3.0.1 in /usr/local/lib/python3.10/dist-packages (from google-api-python-client->google-generativeai) (4.1.1)\n",
            "Requirement already satisfied: annotated-types>=0.4.0 in /usr/local/lib/python3.10/dist-packages (from pydantic->google-generativeai) (0.6.0)\n",
            "Requirement already satisfied: pydantic-core==2.18.2 in /usr/local/lib/python3.10/dist-packages (from pydantic->google-generativeai) (2.18.2)\n",
            "Requirement already satisfied: grpcio<2.0dev,>=1.33.2 in /usr/local/lib/python3.10/dist-packages (from google-api-core->google-generativeai) (1.63.0)\n",
            "Requirement already satisfied: grpcio-status<2.0.dev0,>=1.33.2 in /usr/local/lib/python3.10/dist-packages (from google-api-core->google-generativeai) (1.48.2)\n",
            "Requirement already satisfied: pyparsing!=3.0.0,!=3.0.1,!=3.0.2,!=3.0.3,<4,>=2.4.2 in /usr/local/lib/python3.10/dist-packages (from httplib2<1dev,>=0.15.0->google-api-python-client->google-generativeai) (3.1.2)\n",
            "Requirement already satisfied: pyasn1<0.7.0,>=0.4.6 in /usr/local/lib/python3.10/dist-packages (from pyasn1-modules>=0.2.1->google-auth>=2.15.0->google-generativeai) (0.6.0)\n",
            "Requirement already satisfied: charset-normalizer<4,>=2 in /usr/local/lib/python3.10/dist-packages (from requests<3.0.0.dev0,>=2.18.0->google-api-core->google-generativeai) (3.3.2)\n",
            "Requirement already satisfied: idna<4,>=2.5 in /usr/local/lib/python3.10/dist-packages (from requests<3.0.0.dev0,>=2.18.0->google-api-core->google-generativeai) (3.7)\n",
            "Requirement already satisfied: urllib3<3,>=1.21.1 in /usr/local/lib/python3.10/dist-packages (from requests<3.0.0.dev0,>=2.18.0->google-api-core->google-generativeai) (2.0.7)\n",
            "Requirement already satisfied: certifi>=2017.4.17 in /usr/local/lib/python3.10/dist-packages (from requests<3.0.0.dev0,>=2.18.0->google-api-core->google-generativeai) (2024.2.2)\n",
            "Requirement already satisfied: pypdf2 in /usr/local/lib/python3.10/dist-packages (3.0.1)\n",
            "Collecting docx2txt\n",
            "  Downloading docx2txt-0.8.tar.gz (2.8 kB)\n",
            "  Preparing metadata (setup.py) ... \u001b[?25l\u001b[?25hdone\n",
            "Building wheels for collected packages: docx2txt\n",
            "  Building wheel for docx2txt (setup.py) ... \u001b[?25l\u001b[?25hdone\n",
            "  Created wheel for docx2txt: filename=docx2txt-0.8-py3-none-any.whl size=3960 sha256=2a3cfe4ecf9b019777d5094eff25b85755853d0cde60168cc6aae26fdcfd5de0\n",
            "  Stored in directory: /root/.cache/pip/wheels/22/58/cf/093d0a6c3ecfdfc5f6ddd5524043b88e59a9a199cb02352966\n",
            "Successfully built docx2txt\n",
            "Installing collected packages: docx2txt\n",
            "Successfully installed docx2txt-0.8\n"
          ]
        }
      ]
    },
    {
      "cell_type": "markdown",
      "source": [
        "Importando as bibliotecas necessarias, e configurando a API."
      ],
      "metadata": {
        "id": "D7oDrvQkcSJF"
      }
    },
    {
      "cell_type": "code",
      "source": [
        "import google.generativeai as genai\n",
        "import hashlib\n",
        "import os\n",
        "import PyPDF2\n",
        "import docx2txt\n",
        "import pathlib\n",
        "import textwrap\n",
        "from transformers import pipeline\n",
        "from pathlib import Path\n",
        "from google.colab import userdata\n",
        "from google.colab import files\n",
        "from IPython.display import display\n",
        "from IPython.display import Markdown\n",
        "\n",
        "api_key = userdata.get(\"SAPI\")\n",
        "genai.configure(api_key=api_key)"
      ],
      "metadata": {
        "id": "Uj2ZSR7Mfsjw"
      },
      "execution_count": 12,
      "outputs": []
    },
    {
      "cell_type": "markdown",
      "source": [
        "Como meu projeto consiste em utilizar um arquivo enviado pelo usuario, vou fazer a requisição do upload do mesmo."
      ],
      "metadata": {
        "id": "odQbFYJygS_J"
      }
    },
    {
      "cell_type": "code",
      "source": [
        "uploaded = files.upload()"
      ],
      "metadata": {
        "colab": {
          "base_uri": "https://localhost:8080/",
          "height": 73
        },
        "id": "RrsUuT4ygTol",
        "outputId": "4b38698f-d30a-49c5-d27f-519ac89cf77d"
      },
      "execution_count": 18,
      "outputs": [
        {
          "output_type": "display_data",
          "data": {
            "text/plain": [
              "<IPython.core.display.HTML object>"
            ],
            "text/html": [
              "\n",
              "     <input type=\"file\" id=\"files-48dbd873-edc8-4081-80ab-b60c9868db21\" name=\"files[]\" multiple disabled\n",
              "        style=\"border:none\" />\n",
              "     <output id=\"result-48dbd873-edc8-4081-80ab-b60c9868db21\">\n",
              "      Upload widget is only available when the cell has been executed in the\n",
              "      current browser session. Please rerun this cell to enable.\n",
              "      </output>\n",
              "      <script>// Copyright 2017 Google LLC\n",
              "//\n",
              "// Licensed under the Apache License, Version 2.0 (the \"License\");\n",
              "// you may not use this file except in compliance with the License.\n",
              "// You may obtain a copy of the License at\n",
              "//\n",
              "//      http://www.apache.org/licenses/LICENSE-2.0\n",
              "//\n",
              "// Unless required by applicable law or agreed to in writing, software\n",
              "// distributed under the License is distributed on an \"AS IS\" BASIS,\n",
              "// WITHOUT WARRANTIES OR CONDITIONS OF ANY KIND, either express or implied.\n",
              "// See the License for the specific language governing permissions and\n",
              "// limitations under the License.\n",
              "\n",
              "/**\n",
              " * @fileoverview Helpers for google.colab Python module.\n",
              " */\n",
              "(function(scope) {\n",
              "function span(text, styleAttributes = {}) {\n",
              "  const element = document.createElement('span');\n",
              "  element.textContent = text;\n",
              "  for (const key of Object.keys(styleAttributes)) {\n",
              "    element.style[key] = styleAttributes[key];\n",
              "  }\n",
              "  return element;\n",
              "}\n",
              "\n",
              "// Max number of bytes which will be uploaded at a time.\n",
              "const MAX_PAYLOAD_SIZE = 100 * 1024;\n",
              "\n",
              "function _uploadFiles(inputId, outputId) {\n",
              "  const steps = uploadFilesStep(inputId, outputId);\n",
              "  const outputElement = document.getElementById(outputId);\n",
              "  // Cache steps on the outputElement to make it available for the next call\n",
              "  // to uploadFilesContinue from Python.\n",
              "  outputElement.steps = steps;\n",
              "\n",
              "  return _uploadFilesContinue(outputId);\n",
              "}\n",
              "\n",
              "// This is roughly an async generator (not supported in the browser yet),\n",
              "// where there are multiple asynchronous steps and the Python side is going\n",
              "// to poll for completion of each step.\n",
              "// This uses a Promise to block the python side on completion of each step,\n",
              "// then passes the result of the previous step as the input to the next step.\n",
              "function _uploadFilesContinue(outputId) {\n",
              "  const outputElement = document.getElementById(outputId);\n",
              "  const steps = outputElement.steps;\n",
              "\n",
              "  const next = steps.next(outputElement.lastPromiseValue);\n",
              "  return Promise.resolve(next.value.promise).then((value) => {\n",
              "    // Cache the last promise value to make it available to the next\n",
              "    // step of the generator.\n",
              "    outputElement.lastPromiseValue = value;\n",
              "    return next.value.response;\n",
              "  });\n",
              "}\n",
              "\n",
              "/**\n",
              " * Generator function which is called between each async step of the upload\n",
              " * process.\n",
              " * @param {string} inputId Element ID of the input file picker element.\n",
              " * @param {string} outputId Element ID of the output display.\n",
              " * @return {!Iterable<!Object>} Iterable of next steps.\n",
              " */\n",
              "function* uploadFilesStep(inputId, outputId) {\n",
              "  const inputElement = document.getElementById(inputId);\n",
              "  inputElement.disabled = false;\n",
              "\n",
              "  const outputElement = document.getElementById(outputId);\n",
              "  outputElement.innerHTML = '';\n",
              "\n",
              "  const pickedPromise = new Promise((resolve) => {\n",
              "    inputElement.addEventListener('change', (e) => {\n",
              "      resolve(e.target.files);\n",
              "    });\n",
              "  });\n",
              "\n",
              "  const cancel = document.createElement('button');\n",
              "  inputElement.parentElement.appendChild(cancel);\n",
              "  cancel.textContent = 'Cancel upload';\n",
              "  const cancelPromise = new Promise((resolve) => {\n",
              "    cancel.onclick = () => {\n",
              "      resolve(null);\n",
              "    };\n",
              "  });\n",
              "\n",
              "  // Wait for the user to pick the files.\n",
              "  const files = yield {\n",
              "    promise: Promise.race([pickedPromise, cancelPromise]),\n",
              "    response: {\n",
              "      action: 'starting',\n",
              "    }\n",
              "  };\n",
              "\n",
              "  cancel.remove();\n",
              "\n",
              "  // Disable the input element since further picks are not allowed.\n",
              "  inputElement.disabled = true;\n",
              "\n",
              "  if (!files) {\n",
              "    return {\n",
              "      response: {\n",
              "        action: 'complete',\n",
              "      }\n",
              "    };\n",
              "  }\n",
              "\n",
              "  for (const file of files) {\n",
              "    const li = document.createElement('li');\n",
              "    li.append(span(file.name, {fontWeight: 'bold'}));\n",
              "    li.append(span(\n",
              "        `(${file.type || 'n/a'}) - ${file.size} bytes, ` +\n",
              "        `last modified: ${\n",
              "            file.lastModifiedDate ? file.lastModifiedDate.toLocaleDateString() :\n",
              "                                    'n/a'} - `));\n",
              "    const percent = span('0% done');\n",
              "    li.appendChild(percent);\n",
              "\n",
              "    outputElement.appendChild(li);\n",
              "\n",
              "    const fileDataPromise = new Promise((resolve) => {\n",
              "      const reader = new FileReader();\n",
              "      reader.onload = (e) => {\n",
              "        resolve(e.target.result);\n",
              "      };\n",
              "      reader.readAsArrayBuffer(file);\n",
              "    });\n",
              "    // Wait for the data to be ready.\n",
              "    let fileData = yield {\n",
              "      promise: fileDataPromise,\n",
              "      response: {\n",
              "        action: 'continue',\n",
              "      }\n",
              "    };\n",
              "\n",
              "    // Use a chunked sending to avoid message size limits. See b/62115660.\n",
              "    let position = 0;\n",
              "    do {\n",
              "      const length = Math.min(fileData.byteLength - position, MAX_PAYLOAD_SIZE);\n",
              "      const chunk = new Uint8Array(fileData, position, length);\n",
              "      position += length;\n",
              "\n",
              "      const base64 = btoa(String.fromCharCode.apply(null, chunk));\n",
              "      yield {\n",
              "        response: {\n",
              "          action: 'append',\n",
              "          file: file.name,\n",
              "          data: base64,\n",
              "        },\n",
              "      };\n",
              "\n",
              "      let percentDone = fileData.byteLength === 0 ?\n",
              "          100 :\n",
              "          Math.round((position / fileData.byteLength) * 100);\n",
              "      percent.textContent = `${percentDone}% done`;\n",
              "\n",
              "    } while (position < fileData.byteLength);\n",
              "  }\n",
              "\n",
              "  // All done.\n",
              "  yield {\n",
              "    response: {\n",
              "      action: 'complete',\n",
              "    }\n",
              "  };\n",
              "}\n",
              "\n",
              "scope.google = scope.google || {};\n",
              "scope.google.colab = scope.google.colab || {};\n",
              "scope.google.colab._files = {\n",
              "  _uploadFiles,\n",
              "  _uploadFilesContinue,\n",
              "};\n",
              "})(self);\n",
              "</script> "
            ]
          },
          "metadata": {}
        },
        {
          "output_type": "stream",
          "name": "stdout",
          "text": [
            "Saving Redacao1.docx to Redacao1.docx\n"
          ]
        }
      ]
    },
    {
      "cell_type": "markdown",
      "source": [
        "Depois de adquirir o arquivou vou armazenar em uma variavel o caminho do arquivo para utilização posterior. É importante a localização pois para usar o pypdf2 é necessario a utilização com o caminho."
      ],
      "metadata": {
        "id": "CRTkgDt7g697"
      }
    },
    {
      "cell_type": "code",
      "source": [
        "for filename in uploaded.keys():\n",
        "  uploaded_extension = filename.split('.')[-1]\n",
        "\n",
        "if uploaded_extension == 'pdf':\n",
        "  for filename in uploaded.keys():\n",
        "    uploadedfile = filename\n",
        "    file_path = os.path.abspath(uploadedfile)\n",
        "\n",
        "    # Extrair texto do PDF\n",
        "  pdf_file_path = file_path\n",
        "  with open(pdf_file_path, 'rb') as pdf_file:\n",
        "      pdf_reader = PyPDF2.PdfReader(pdf_file)\n",
        "      text = \"\"\n",
        "      for page_num in range(len(pdf_reader.pages)):\n",
        "          page = pdf_reader.pages[page_num]\n",
        "          text += page.extract_text()\n",
        "elif uploaded_extension == 'txt' or uploaded_extension == 'docx':\n",
        "  text = docx2txt.process(file_path)\n",
        "else:\n",
        "  print(\"Extensão não suportada, use pdf, Word(docx) ou texto\")"
      ],
      "metadata": {
        "id": "uRFjC9lDg7XW"
      },
      "execution_count": 19,
      "outputs": []
    },
    {
      "cell_type": "markdown",
      "source": [
        "Configurar o modelo e preparar o modelo para utilização."
      ],
      "metadata": {
        "id": "so_DKnLj0MVa"
      }
    },
    {
      "cell_type": "code",
      "execution_count": 20,
      "metadata": {
        "id": "BHnVetvQihTU"
      },
      "outputs": [],
      "source": [
        "# Preparar o modelo\n",
        "generation_config = {\n",
        "  \"temperature\": 1,\n",
        "}\n",
        "\n",
        "safety_settings = [\n",
        "  {\n",
        "    \"category\": \"HARM_CATEGORY_HARASSMENT\",\n",
        "    \"threshold\": \"BLOCK_MEDIUM_AND_ABOVE\"\n",
        "  },\n",
        "  {\n",
        "    \"category\": \"HARM_CATEGORY_HATE_SPEECH\",\n",
        "    \"threshold\": \"BLOCK_MEDIUM_AND_ABOVE\"\n",
        "  },\n",
        "  {\n",
        "    \"category\": \"HARM_CATEGORY_SEXUALLY_EXPLICIT\",\n",
        "    \"threshold\": \"BLOCK_MEDIUM_AND_ABOVE\"\n",
        "  },\n",
        "  {\n",
        "    \"category\": \"HARM_CATEGORY_DANGEROUS_CONTENT\",\n",
        "    \"threshold\": \"BLOCK_MEDIUM_AND_ABOVE\"\n",
        "  },\n",
        "]\n",
        "\n",
        "model = genai.GenerativeModel(model_name=\"gemini-1.5-pro-latest\",\n",
        "                              generation_config=generation_config,\n",
        "                              safety_settings=safety_settings,\n",
        "                              )"
      ]
    },
    {
      "cell_type": "markdown",
      "source": [
        "Com o modelo preparado, agora executaremos as analises e soluções para aprimoração do texto. A partir daqui usarei a generative ai para executar soluções de problemas de texto.\n",
        "\n",
        "Passo a passo:\n",
        "1.  Requisitar o arquivo com o texto e o tema da redação;\n",
        "2.  Ranquear o texto em relação ao tema;\n",
        "3.  Procurar por conteúdo fora de contexto;\n",
        "4.  Analisar pontos fracos e fortes do texto;\n",
        "5.  Sugerir soluções para aprimorar/corrigir pontos fracos;\n"
      ],
      "metadata": {
        "id": "ZF8Vg_ek0eUC"
      }
    },
    {
      "cell_type": "code",
      "source": [
        "#Usarei cadeia de dados para executar minhas soluções.\n",
        "def aprimoramento_texto(text):\n",
        "  prompt_1 = f\"Identifique pontos fracos e incoerencias. Pontue o que precisa ser melhorado no {text}. Faça sugestoes de aprimoramentos do {text} para alcancar a melhorar da escrita da redacao. Organize o resultado da sua analise em topicos.\"\n",
        "  sugestoes = model.generate_content(prompt_1)\n",
        "  return sugestoes.text\n",
        "\n",
        "tema_texto = input(\"Digite o Tema: \")\n",
        "\n",
        "prompt = f\"Analise se o conteudo do {text} está compativel com o tema {tema_texto} e dê uma nota de 0 a 10, sendo 0 muito fora do tema e 10 muito condizente com o tema, escreve somente o numero\"\n",
        "ranqueamento_str = model.generate_content(prompt)\n",
        "ranqueamento_int = int(ranqueamento_str.text)#STR para INT\n",
        "\n",
        "#Vou eliminar o textos abaixo de 5 porque como é muito fora do tema os aprimoramentos seriam basicamente um texto novo\n",
        "if ranqueamento_int > 5:\n",
        "  sugestoes = aprimoramento_texto(text)\n",
        "  print(\"\\n\", sugestoes)\n",
        "elif ranqueamento_int < 6:\n",
        "  print(\"\\nO texto está muito ou completamente fora do tema. \\n\\nFaça um texto mais elaborado e tente novamente.\")\n"
      ],
      "metadata": {
        "colab": {
          "base_uri": "https://localhost:8080/",
          "height": 662
        },
        "id": "nwnLf0xc0ZJU",
        "outputId": "b390db2a-93bd-457a-b280-3ffc33d16b08"
      },
      "execution_count": 22,
      "outputs": [
        {
          "output_type": "stream",
          "name": "stdout",
          "text": [
            "Digite o Tema: Redes Sociais\n",
            "\n",
            " ## Análise e Sugestões de Aprimoramento do Texto sobre Exposição nas Redes Sociais\n",
            "\n",
            "O texto apresenta uma boa estrutura e argumentação, mas pode ser aprimorado em alguns aspectos para fortalecer sua qualidade. Abaixo, uma análise por tópicos:\n",
            "\n",
            "**1. Introdução:**\n",
            "\n",
            "* **Ponto Fraco:** A introdução, apesar de contextualizar o tema, carece de um gancho mais forte para prender a atenção do leitor. \n",
            "* **Sugestão de Aprimoramento:** Iniciar com um dado estatístico sobre o uso de redes sociais ou uma frase de impacto que ilustre a busca por popularidade online. Exemplo: \"Em uma sociedade cada vez mais conectada, a busca por curtidas e seguidores se torna um motor poderoso, impulsionando a exposição excessiva nas redes sociais.\"\n",
            "\n",
            "**2. Desenvolvimento:**\n",
            "\n",
            "* **Ponto Forte:** Boa utilização das ideias de Castells e Debord para sustentar a argumentação.\n",
            "* **Ponto Fraco:** Falta de exemplos concretos para ilustrar os danos materiais e psicológicos da exposição excessiva. \n",
            "* **Sugestão de Aprimoramento:** Incluir exemplos de crimes virtuais decorrentes da exposição de rotinas e localização, além de mencionar transtornos de ansiedade e depressão relacionados ao uso problemático das redes.\n",
            "\n",
            "**3. Coesão e Coerência:**\n",
            "\n",
            "* **Ponto Forte:** O texto apresenta boa coesão, com conectivos que ligam as ideias de forma fluida.\n",
            "* **Ponto Fraco:** A repetição da expressão \"redes sociais\" pode tornar o texto repetitivo. \n",
            "* **Sugestão de Aprimoramento:** Utilizar sinônimos como \"plataformas digitais\", \"ambiente virtual\" ou \"mídias sociais\" para diversificar o vocabulário.\n",
            "\n",
            "**4. Conclusão:**\n",
            "\n",
            "* **Ponto Fraco:** A conclusão é um pouco redundante, retomando ideias já exploradas no desenvolvimento. \n",
            "* **Sugestão de Aprimoramento:** Enfatizar a importância do uso consciente e equilibrado das redes sociais,  apontando  ferramentas e estratégias para evitar a exposição excessiva. Exemplo: \"Para evitar os perigos da superexposição, é crucial buscar um equilíbrio entre o mundo virtual e o real, estabelecendo limites para o tempo de uso, cultivando o autoconhecimento e priorizando a privacidade.\"\n",
            "\n",
            "**5. Estilo e Tom:**\n",
            "\n",
            "* **Ponto Forte:**  Linguagem clara, objetiva e adequada à norma culta.\n",
            "* **Ponto Fraco:**  O tom pode ser considerado um pouco generalizante ao afirmar que \"a população\" busca popularidade online. \n",
            "* **Sugestão de Aprimoramento:**  Modular o discurso, reconhecendo que a busca por popularidade online é uma tendência, mas não se aplica a todos os usuários.\n",
            "\n",
            "**Em resumo, o texto possui bom potencial, mas precisa ser enriquecido com exemplos concretos, vocabulário mais variado e uma conclusão mais impactante. As sugestões de aprimoramento visam fortalecer a argumentação, tornando o texto mais persuasivo e interessante para o leitor.** \n",
            "\n"
          ]
        }
      ]
    }
  ]
}